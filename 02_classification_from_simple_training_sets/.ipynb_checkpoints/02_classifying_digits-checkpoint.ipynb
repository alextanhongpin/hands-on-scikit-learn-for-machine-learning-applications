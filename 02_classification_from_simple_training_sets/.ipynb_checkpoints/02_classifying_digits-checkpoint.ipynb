{
 "cells": [
  {
   "cell_type": "code",
   "execution_count": 29,
   "metadata": {},
   "outputs": [],
   "source": [
    "from sklearn.datasets import load_digits\n",
    "from sklearn.model_selection import train_test_split\n",
    "from sklearn.naive_bayes import GaussianNB\n",
    "from sklearn.linear_model import SGDClassifier\n",
    "from sklearn.svm import SVC\n",
    "from sklearn.preprocessing import StandardScaler\n",
    "from sklearn.metrics import accuracy_score, confusion_matrix, classification_report\n",
    "\n",
    "import matplotlib.pyplot as plt\n",
    "import seaborn as sns"
   ]
  },
  {
   "cell_type": "code",
   "execution_count": 30,
   "metadata": {},
   "outputs": [],
   "source": [
    "def find_misses(test, pred):\n",
    "    return [i for i, row in enumerate(test) if row != pred[i]]"
   ]
  },
  {
   "cell_type": "code",
   "execution_count": 31,
   "metadata": {},
   "outputs": [
    {
     "data": {
      "text/plain": [
       "dict_keys(['data', 'target', 'target_names', 'images', 'DESCR'])"
      ]
     },
     "execution_count": 31,
     "metadata": {},
     "output_type": "execute_result"
    }
   ],
   "source": [
    "digits = load_digits()\n",
    "digits.keys()"
   ]
  },
  {
   "cell_type": "code",
   "execution_count": 32,
   "metadata": {},
   "outputs": [],
   "source": [
    "X, y = digits.data, digits.target"
   ]
  },
  {
   "cell_type": "code",
   "execution_count": 33,
   "metadata": {},
   "outputs": [],
   "source": [
    "X_train, X_test, y_train, y_test = train_test_split(X, y, random_state=0)"
   ]
  },
  {
   "cell_type": "code",
   "execution_count": 34,
   "metadata": {},
   "outputs": [],
   "source": [
    "gnb = GaussianNB().fit(X_train, y_train)\n",
    "gnb_name = gnb.__class__.__name__"
   ]
  },
  {
   "cell_type": "code",
   "execution_count": 35,
   "metadata": {},
   "outputs": [],
   "source": [
    "y_pred = gnb.predict(X_test)"
   ]
  },
  {
   "cell_type": "code",
   "execution_count": 36,
   "metadata": {},
   "outputs": [
    {
     "name": "stdout",
     "output_type": "stream",
     "text": [
      "GaussianNB accuracy: 0.8333333333333334\n"
     ]
    }
   ],
   "source": [
    "accuracy = accuracy_score(y_test, y_pred)\n",
    "print(f'{gnb_name} accuracy: {accuracy}')"
   ]
  },
  {
   "cell_type": "code",
   "execution_count": 37,
   "metadata": {},
   "outputs": [],
   "source": [
    "scaler = StandardScaler()\n",
    "X_train_std = scaler.fit_transform(X_train)\n",
    "X_test_std = scaler.fit_transform(X_test)"
   ]
  },
  {
   "cell_type": "code",
   "execution_count": 38,
   "metadata": {},
   "outputs": [
    {
     "data": {
      "text/plain": [
       "SGDClassifier(alpha=0.0001, average=False, class_weight=None,\n",
       "              early_stopping=False, epsilon=0.1, eta0=0.0, fit_intercept=True,\n",
       "              l1_ratio=0.15, learning_rate='optimal', loss='hinge',\n",
       "              max_iter=1000, n_iter_no_change=5, n_jobs=None, penalty='l2',\n",
       "              power_t=0.5, random_state=0, shuffle=True, tol=0.001,\n",
       "              validation_fraction=0.1, verbose=0, warm_start=False)"
      ]
     },
     "execution_count": 38,
     "metadata": {},
     "output_type": "execute_result"
    }
   ],
   "source": [
    "sgd = SGDClassifier(random_state=0, max_iter=1000, tol=0.001)\n",
    "sgd_name = sgd.__class__.__name__\n",
    "sgd.fit(X_train_std, y_train)"
   ]
  },
  {
   "cell_type": "code",
   "execution_count": 39,
   "metadata": {},
   "outputs": [],
   "source": [
    "y_pred = sgd.predict(X_test_std)"
   ]
  },
  {
   "cell_type": "code",
   "execution_count": 40,
   "metadata": {},
   "outputs": [
    {
     "name": "stdout",
     "output_type": "stream",
     "text": [
      "SGDClassifier accuracy: 0.9533333333333334\n"
     ]
    }
   ],
   "source": [
    "accuracy = accuracy_score(y_test, y_pred)\n",
    "print(f'{sgd_name} accuracy: {accuracy}')"
   ]
  },
  {
   "cell_type": "code",
   "execution_count": 41,
   "metadata": {},
   "outputs": [],
   "source": [
    "svm = SVC(gamma='auto').fit(X_train_std, y_train)\n",
    "svm_name = svm.__class__.__name__"
   ]
  },
  {
   "cell_type": "code",
   "execution_count": 42,
   "metadata": {},
   "outputs": [],
   "source": [
    "y_pred = svm.predict(X_test_std)"
   ]
  },
  {
   "cell_type": "code",
   "execution_count": 43,
   "metadata": {},
   "outputs": [
    {
     "name": "stdout",
     "output_type": "stream",
     "text": [
      "SVC accuracy: 0.9822222222222222\n"
     ]
    }
   ],
   "source": [
    "accuracy = accuracy_score(y_test, y_pred)\n",
    "print(f'{svm_name} accuracy: {accuracy}')"
   ]
  },
  {
   "cell_type": "code",
   "execution_count": 44,
   "metadata": {},
   "outputs": [
    {
     "name": "stdout",
     "output_type": "stream",
     "text": [
      "total misclassifications (SVC): 8\n"
     ]
    }
   ],
   "source": [
    "indx = find_misses(y_test, y_pred)\n",
    "print(f'total misclassifications ({svm_name}): {len(indx)}')"
   ]
  },
  {
   "cell_type": "code",
   "execution_count": 45,
   "metadata": {},
   "outputs": [
    {
     "name": "stdout",
     "output_type": "stream",
     "text": [
      "7 2\n",
      "1 8\n",
      "7 9\n",
      "9 5\n",
      "4 7\n",
      "4 3\n",
      "2 8\n",
      "4 1\n"
     ]
    }
   ],
   "source": [
    "misses = [(y_pred[row], y_test[row], i) \n",
    "          for i, row in enumerate(indx)]\n",
    "for row in misses:\n",
    "    print(row[0], row[1])"
   ]
  },
  {
   "cell_type": "code",
   "execution_count": 46,
   "metadata": {},
   "outputs": [
    {
     "data": {
      "text/plain": [
       "7"
      ]
     },
     "execution_count": 46,
     "metadata": {},
     "output_type": "execute_result"
    }
   ],
   "source": [
    "img_indx = misses[0][2]\n",
    "img_pred = misses[0][0]\n",
    "img_act = misses[0][1]\n",
    "img_pred"
   ]
  },
  {
   "cell_type": "code",
   "execution_count": 48,
   "metadata": {},
   "outputs": [
    {
     "name": "stdout",
     "output_type": "stream",
     "text": [
      "              precision    recall  f1-score   support\n",
      "\n",
      "           0       1.00      1.00      1.00        37\n",
      "           1       0.98      0.98      0.98        43\n",
      "           2       0.98      0.98      0.98        44\n",
      "           3       1.00      0.98      0.99        45\n",
      "           4       0.93      1.00      0.96        38\n",
      "           5       1.00      0.98      0.99        48\n",
      "           6       1.00      1.00      1.00        52\n",
      "           7       0.96      0.98      0.97        48\n",
      "           8       1.00      0.96      0.98        48\n",
      "           9       0.98      0.98      0.98        47\n",
      "\n",
      "    accuracy                           0.98       450\n",
      "   macro avg       0.98      0.98      0.98       450\n",
      "weighted avg       0.98      0.98      0.98       450\n",
      "\n"
     ]
    }
   ],
   "source": [
    "print(classification_report(y_test, y_pred))"
   ]
  },
  {
   "cell_type": "code",
   "execution_count": 51,
   "metadata": {},
   "outputs": [
    {
     "data": {
      "text/plain": [
       "Text(0, 0.05, '7')"
      ]
     },
     "execution_count": 51,
     "metadata": {},
     "output_type": "execute_result"
    },
    {
     "data": {
      "image/png": "[encoded data removed]",
      "text/plain": [
       "<Figure size 432x288 with 2 Axes>"
      ]
     },
     "metadata": {
      "needs_background": "light"
     },
     "output_type": "display_data"
    },
    {
     "data": {
      "image/png": "[encoded data removed]",
      "text/plain": [
       "<Figure size 432x288 with 1 Axes>"
      ]
     },
     "metadata": {
      "needs_background": "light"
     },
     "output_type": "display_data"
    }
   ],
   "source": [
    "cm = confusion_matrix(y_test, y_pred)\n",
    "\n",
    "plt.figure(1)\n",
    "ax = plt.axes()\n",
    "sns.heatmap(cm.T, annot=True, fmt='d',\n",
    "            cmap='gist_ncar_r', ax=ax)\n",
    "title = svm_name + ' confusion matrix'\n",
    "ax.set_title(title)\n",
    "plt.xlabel('true value')\n",
    "plt.ylabel('predicted value')\n",
    "test_images = X_test.reshape(-1, 8, 8)\n",
    "\n",
    "plt.figure(2)\n",
    "plt.title('1st misclassification')\n",
    "plt.imshow(test_images[img_indx], cmap='gray', interpolation='gaussian')\n",
    "plt.text(0, .05, str(img_pred), color='r', bbox=dict(facecolor='white'))"
   ]
  },
  {
   "cell_type": "markdown",
   "metadata": {},
   "source": [
    "# Classifying load_digits with various algorithms"
   ]
  },
  {
   "cell_type": "code",
   "execution_count": 55,
   "metadata": {},
   "outputs": [],
   "source": [
    "import humanfriendly as hf\n",
    "import time\n",
    "\n",
    "from sklearn.datasets import load_digits\n",
    "from sklearn.model_selection import train_test_split\n",
    "from sklearn.linear_model import LogisticRegression, LogisticRegressionCV\n",
    "from sklearn.neighbors import KNeighborsClassifier\n",
    "from sklearn.ensemble import RandomForestClassifier, ExtraTreesClassifier, GradientBoostingClassifier\n",
    "from sklearn.preprocessing import StandardScaler\n",
    "from sklearn.metrics import accuracy_score, f1_score"
   ]
  },
  {
   "cell_type": "code",
   "execution_count": 56,
   "metadata": {},
   "outputs": [],
   "source": [
    "def get_scores(model, X_test, y_test, avg):\n",
    "    y_pred = model.predict(X_test)\n",
    "    accuracy = accuracy_score(y_test, y_pred)\n",
    "    f1 = f1_score(y_test, y_pred, average=avg)\n",
    "    return (accuracy, f1)"
   ]
  },
  {
   "cell_type": "code",
   "execution_count": 57,
   "metadata": {},
   "outputs": [],
   "source": [
    "def get_time(time):\n",
    "    return hf.format_timespan(time, detailed=True)"
   ]
  },
  {
   "cell_type": "code",
   "execution_count": 59,
   "metadata": {},
   "outputs": [
    {
     "data": {
      "text/plain": [
       "dict_keys(['data', 'target', 'target_names', 'images', 'DESCR'])"
      ]
     },
     "execution_count": 59,
     "metadata": {},
     "output_type": "execute_result"
    }
   ],
   "source": [
    "digits = load_digits()\n",
    "digits.keys()"
   ]
  },
  {
   "cell_type": "code",
   "execution_count": 60,
   "metadata": {},
   "outputs": [],
   "source": [
    "X, y = digits.data, digits.target"
   ]
  },
  {
   "cell_type": "code",
   "execution_count": 61,
   "metadata": {},
   "outputs": [],
   "source": [
    "X_train, X_test, y_train, y_test = train_test_split(X, y)"
   ]
  },
  {
   "cell_type": "code",
   "execution_count": 62,
   "metadata": {},
   "outputs": [],
   "source": [
    "scaler = StandardScaler()\n",
    "X_train_std = scaler.fit_transform(X_train)\n",
    "X_test_std = scaler.fit_transform(X_test)"
   ]
  },
  {
   "cell_type": "code",
   "execution_count": 64,
   "metadata": {},
   "outputs": [
    {
     "name": "stdout",
     "output_type": "stream",
     "text": [
      "LogisticRegression scaled \"test\":\n",
      "accuracy: 0.8177777777777778 f1_score: 0.8177777777777777\n"
     ]
    }
   ],
   "source": [
    "lr = LogisticRegression(random_state=0, \n",
    "                        solver='lbfgs',\n",
    "                        multi_class='auto',\n",
    "                        max_iter=4000)\n",
    "lr.fit(X_train_std, y_train)\n",
    "lr_name = lr.__class__.__name__\n",
    "acc, f1 = get_scores(lr, X_test, y_test, 'micro')\n",
    "print(lr_name + ' scaled \"test\":')\n",
    "print('accuracy:', acc, 'f1_score:', f1)"
   ]
  },
  {
   "cell_type": "code",
   "execution_count": 65,
   "metadata": {},
   "outputs": [
    {
     "name": "stdout",
     "output_type": "stream",
     "text": [
      "LogisticRegression (softmax) scaled \"test\":\n",
      "accuracy: 0.96 f1_score: 0.96\n"
     ]
    }
   ],
   "source": [
    "softmax = LogisticRegression(multi_class='multinomial',\n",
    "                             solver='lbfgs',\n",
    "                             max_iter=4_000,\n",
    "                             C=10,\n",
    "                             random_state=0)\n",
    "softmax.fit(X_train_std, y_train)\n",
    "acc, f1 = get_scores(softmax, X_test_std, y_test, 'micro')\n",
    "print(lr_name + ' (softmax) scaled \"test\":')\n",
    "print('accuracy:', acc, 'f1_score:', f1)"
   ]
  },
  {
   "cell_type": "code",
   "execution_count": 68,
   "metadata": {},
   "outputs": [
    {
     "name": "stdout",
     "output_type": "stream",
     "text": [
      "RandomForestClassifier \"test\":\n",
      "accuracy: 0.9733333333333334 f1_score: 0.9733333333333334\n"
     ]
    }
   ],
   "source": [
    "rf = RandomForestClassifier(random_state=0, n_estimators=100)\n",
    "rf.fit(X_train_std, y_train)\n",
    "rf_name = rf.__class__.__name__\n",
    "\n",
    "acc, f1 = get_scores(rf, X_test_std, y_test, 'micro')\n",
    "print(rf_name + ' \"test\":')\n",
    "print('accuracy:', acc, 'f1_score:', f1)"
   ]
  },
  {
   "cell_type": "code",
   "execution_count": 72,
   "metadata": {},
   "outputs": [
    {
     "name": "stdout",
     "output_type": "stream",
     "text": [
      "ExtraTreesClassifier \"test\":\n",
      "accuracy: 0.9755555555555555 f1_score: 0.9755555555555555\n"
     ]
    }
   ],
   "source": [
    "et = ExtraTreesClassifier(random_state=0, n_estimators=100)\n",
    "et.fit(X_train, y_train)\n",
    "et_name = et.__class__.__name__\n",
    "\n",
    "acc, f1 = get_scores(et, X_test, y_test, 'micro')\n",
    "print(et_name + ' \"test\":')\n",
    "print('accuracy:', acc, 'f1_score:', f1)"
   ]
  },
  {
   "cell_type": "code",
   "execution_count": 73,
   "metadata": {},
   "outputs": [
    {
     "name": "stdout",
     "output_type": "stream",
     "text": [
      "GradientBoostingClassifier \"test\":\n",
      "accuracy: 0.9666666666666667 f1_score: 0.9666666666666667\n"
     ]
    }
   ],
   "source": [
    "gboost_clf = GradientBoostingClassifier(random_state=0)\n",
    "gb_name = gboost_clf.__class__.__name__\n",
    "gboost_clf.fit(X_train, y_train)\n",
    "\n",
    "acc, f1 = get_scores(gboost_clf, X_test, y_test, 'micro')\n",
    "print(gb_name + ' \"test\":')\n",
    "print('accuracy:', acc, 'f1_score:', f1)"
   ]
  },
  {
   "cell_type": "code",
   "execution_count": 74,
   "metadata": {},
   "outputs": [
    {
     "name": "stdout",
     "output_type": "stream",
     "text": [
      "KNeighborsClassifier \"test\":\n",
      "accuracy: 0.9844444444444445 f1_score: 0.9844444444444445\n"
     ]
    }
   ],
   "source": [
    "knn_clf = KNeighborsClassifier().fit(X_train, y_train)\n",
    "knn_name = knn_clf.__class__.__name__\n",
    "\n",
    "acc, f1 = get_scores(knn_clf, X_test, y_test, 'micro')\n",
    "print(knn_name + ' \"test\":')\n",
    "print('accuracy:', acc, 'f1_score:', f1)"
   ]
  },
  {
   "cell_type": "code",
   "execution_count": 75,
   "metadata": {},
   "outputs": [],
   "source": [
    "start = time.perf_counter()\n",
    "\n",
    "lr_cv = LogisticRegressionCV(random_state=0, \n",
    "                             cv=5,\n",
    "                             multi_class='auto',\n",
    "                             max_iter=4000)\n",
    "lr_cv_name = lr_cv.__class__.__name__\n",
    "lr_cv.fit(X, y)\n",
    "\n",
    "end = time.perf_counter()"
   ]
  },
  {
   "cell_type": "code",
   "execution_count": 76,
   "metadata": {},
   "outputs": [
    {
     "name": "stdout",
     "output_type": "stream",
     "text": [
      "LogisticRegressionCV timer: 1 minute, 8 seconds and 265.6 milliseconds\n",
      "LogisticRegressionCV \"test\":\n",
      "accuracy: 0.9866666666666667 f1_score: 0.9866666666666668\n"
     ]
    }
   ],
   "source": [
    "elapsed_ls = end - start\n",
    "timer = get_time(elapsed_ls)\n",
    "print(lr_cv_name + ' timer:', timer)\n",
    "\n",
    "acc, f1 = get_scores(lr_cv, X_test, y_test, 'micro')\n",
    "print(lr_cv_name + ' \"test\":')\n",
    "print('accuracy:', acc, 'f1_score:', f1)"
   ]
  }
 ],
 "metadata": {
  "kernelspec": {
   "display_name": "Python 3",
   "language": "python",
   "name": "python3"
  },
  "language_info": {
   "codemirror_mode": {
    "name": "ipython",
    "version": 3
   },
   "file_extension": ".py",
   "mimetype": "text/x-python",
   "name": "python",
   "nbconvert_exporter": "python",
   "pygments_lexer": "ipython3",
   "version": "3.7.5"
  }
 },
 "nbformat": 4,
 "nbformat_minor": 2
}
